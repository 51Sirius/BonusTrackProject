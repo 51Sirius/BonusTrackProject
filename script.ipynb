{
  "nbformat": 4,
  "nbformat_minor": 0,
  "metadata": {
    "colab": {
      "provenance": [],
      "authorship_tag": "ABX9TyNCEuvahpkfr2RhNsutEhMO",
      "include_colab_link": true
    },
    "kernelspec": {
      "name": "python3",
      "display_name": "Python 3"
    },
    "language_info": {
      "name": "python"
    }
  },
  "cells": [
    {
      "cell_type": "markdown",
      "metadata": {
        "id": "view-in-github",
        "colab_type": "text"
      },
      "source": [
        "<a href=\"https://colab.research.google.com/github/51Sirius/BonusTrackProject/blob/main/script.ipynb\" target=\"_parent\"><img src=\"https://colab.research.google.com/assets/colab-badge.svg\" alt=\"Open In Colab\"/></a>"
      ]
    },
    {
      "cell_type": "markdown",
      "source": [
        "# Скрипт для генерации запросов заполнения таблиц\n",
        "---"
      ],
      "metadata": {
        "id": "PCYBhvD4_9Ry"
      }
    },
    {
      "cell_type": "markdown",
      "source": [
        "#### Имопрт библиотек\n",
        "random - стандартная библотека рандома"
      ],
      "metadata": {
        "id": "_T3BgzA1W8OB"
      }
    },
    {
      "cell_type": "code",
      "source": [
        "!pip install Faker\n",
        "import random\n",
        "import datetime\n",
        "from faker import Faker\n",
        "from google.colab import files\n",
        "from faker.providers.address.ru_RU import Provider"
      ],
      "metadata": {
        "colab": {
          "base_uri": "https://localhost:8080/"
        },
        "id": "q9W5KtoehEeE",
        "outputId": "62876a98-6304-416c-8eed-39e803a081be"
      },
      "execution_count": 1,
      "outputs": [
        {
          "output_type": "stream",
          "name": "stdout",
          "text": [
            "Collecting Faker\n",
            "  Downloading Faker-26.0.0-py3-none-any.whl (1.8 MB)\n",
            "\u001b[2K     \u001b[90m━━━━━━━━━━━━━━━━━━━━━━━━━━━━━━━━━━━━━━━━\u001b[0m \u001b[32m1.8/1.8 MB\u001b[0m \u001b[31m5.0 MB/s\u001b[0m eta \u001b[36m0:00:00\u001b[0m\n",
            "\u001b[?25hRequirement already satisfied: python-dateutil>=2.4 in /usr/local/lib/python3.10/dist-packages (from Faker) (2.8.2)\n",
            "Requirement already satisfied: six>=1.5 in /usr/local/lib/python3.10/dist-packages (from python-dateutil>=2.4->Faker) (1.16.0)\n",
            "Installing collected packages: Faker\n",
            "Successfully installed Faker-26.0.0\n"
          ]
        }
      ]
    },
    {
      "cell_type": "markdown",
      "source": [
        "#### Код для генерации случайных значений по типу, переменной"
      ],
      "metadata": {
        "id": "CCOjKa6tXRYg"
      }
    },
    {
      "cell_type": "code",
      "source": [
        "fake = Faker('ru_RU')\n",
        "fake.add_provider(Provider)\n",
        "\n",
        "def get_random_value(value_type):\n",
        "  match value_type:\n",
        "    case \"callname\":\n",
        "      return fake.text().split()[0]\n",
        "    case \"id_p\":\n",
        "      raise ValueError\n",
        "    case \"first-name\":\n",
        "      return fake.first_name()\n",
        "    case \"last-name\":\n",
        "      return fake.last_name()\n",
        "    case \"surname\":\n",
        "      return fake.first_name() + 'ич'\n",
        "    case \"address\":\n",
        "      return fake.address()\n",
        "    case \"id\":\n",
        "      return random.randint(1, 100)\n",
        "    case \"text\":\n",
        "      return fake.text()\n",
        "    case \"birthdate\":\n",
        "      start_date = datetime.date(1974, 1, 1)\n",
        "      end_date = datetime.date(2023, 12, 31)\n",
        "      random_date = start_date + datetime.timedelta(days=random.randint(0, (end_date - start_date).days))\n",
        "      return f\"'{random_date.strftime('%Y-%m-%d')}'\"\n",
        "    case \"price\":\n",
        "      return round(fake.pyfloat(right_digits=2, min_value=0, max_value=1000), 2)\n",
        "    case \"float\":\n",
        "      return round(fake.pyfloat(right_digits=2, min_value=100, max_value=10000), 2)\n",
        "    case \"time\":\n",
        "      return f'{random.randint(12, 24)}'\n",
        "    case \"bool\":\n",
        "      return f'{random.randint(0, 1)}'"
      ],
      "metadata": {
        "id": "G0JDUoycQEAc"
      },
      "execution_count": 2,
      "outputs": []
    },
    {
      "cell_type": "markdown",
      "source": [
        "#### Класс таблицы с функцией генерации запросов для неё"
      ],
      "metadata": {
        "id": "N5qxYyj-YKE5"
      }
    },
    {
      "cell_type": "code",
      "execution_count": 3,
      "metadata": {
        "id": "Mz5YzDD7xMSz"
      },
      "outputs": [],
      "source": [
        "class Table:\n",
        "  def __init__(self, tablename: str, columns: dict, count: int):\n",
        "    self.tablename = tablename\n",
        "    self.columns = columns\n",
        "    self.count = count\n",
        "    self.column_names = ', '.join(f'\"{column}\"' for column in list(self.columns.keys()))\n",
        "\n",
        "  def generate(self) -> list:\n",
        "    result = []\n",
        "    for i in range(self.count):\n",
        "          insert_query = f'INSERT INTO \"{self.tablename}\" ({self.column_names}) VALUES ({self.__generate_values(i)});\\n'\n",
        "          result.append(insert_query)\n",
        "    return result\n",
        "\n",
        "  def __generate_values(self, index) -> str:\n",
        "    result = []\n",
        "    for value_type in self.columns.values():\n",
        "      try:\n",
        "        value = get_random_value(value_type)\n",
        "      except ValueError:\n",
        "        value = index\n",
        "      result.append(value)\n",
        "    return ', '.join(str(value) for value in result)\n"
      ]
    },
    {
      "cell_type": "markdown",
      "source": [
        "#### Класс генератор файла с запросами для множества таблиц"
      ],
      "metadata": {
        "id": "iDJS35bt_8dT"
      }
    },
    {
      "cell_type": "code",
      "source": [
        "class FileGenerator:\n",
        "  def __init__(self, filename: str, tables: list):\n",
        "    self.filename=filename\n",
        "    self.tables = tables\n",
        "\n",
        "  def create_file(self, count):\n",
        "    passfilename = f'{self.filename}.sql'\n",
        "    with open(self.filename, 'w') as f:\n",
        "      for query in self.__create_all:\n",
        "          f.write(query)\n",
        "      f.close()\n",
        "\n",
        "  def __create_all(self) -> list:\n",
        "    result = []\n",
        "    for table in self.tables:\n",
        "      result += table.generate()\n",
        "    return result"
      ],
      "metadata": {
        "id": "Ei8uyhvm5xYS"
      },
      "execution_count": 4,
      "outputs": []
    },
    {
      "cell_type": "markdown",
      "source": [
        "#### Заполнение таблиц"
      ],
      "metadata": {
        "id": "yBMCclmGYdZx"
      }
    },
    {
      "cell_type": "markdown",
      "source": [
        "Таблица с типами свойств:"
      ],
      "metadata": {
        "id": "HlWzd5MSgT1K"
      }
    },
    {
      "cell_type": "code",
      "source": [
        "column_properties_type = {\n",
        "    \"Name\" : \"callname\",\n",
        "    \"PropertiesId\": \"id\"\n",
        "}\n",
        "\n",
        "table_properties_type = Table(\"PropertiesType\", column_properties_type, 10)"
      ],
      "metadata": {
        "id": "YoBUfi0rPm2D"
      },
      "execution_count": 5,
      "outputs": []
    },
    {
      "cell_type": "code",
      "source": [
        "column_properties = {\n",
        "    \"Id\" : \"id_p\",\n",
        "    \"Name\" : \"callname\",\n",
        "    \"ProductionSubCategoryId\": \"id\"\n",
        "}\n",
        "\n",
        "table_properties = Table(\"Properties\", column_properties, 10)"
      ],
      "metadata": {
        "id": "F99cKsEYyDul"
      },
      "execution_count": 6,
      "outputs": []
    },
    {
      "cell_type": "code",
      "source": [
        "column_product_category = {\n",
        "    \"Id\" : \"id_p\",\n",
        "    \"Name\" : \"callname\",\n",
        "}\n",
        "\n",
        "table_properties = Table(\"ProductCategory\", column_product_category, 10)"
      ],
      "metadata": {
        "id": "4PHtSCEIyD3k"
      },
      "execution_count": 7,
      "outputs": []
    },
    {
      "cell_type": "code",
      "source": [
        "column_product_sub_category = {\n",
        "    \"Id\" : \"id_p\",\n",
        "    \"Name\" : \"callname\",\n",
        "    \"ProductCategoryId\" : \"id\"\n",
        "}\n",
        "\n",
        "table_product_sub_category = Table(\"ProductSubCategory\", column_product_category, 10)"
      ],
      "metadata": {
        "id": "ZJAEFHdKyD7G"
      },
      "execution_count": 8,
      "outputs": []
    },
    {
      "cell_type": "code",
      "source": [],
      "metadata": {
        "id": "v5M3sKdVyD-U"
      },
      "execution_count": 8,
      "outputs": []
    },
    {
      "cell_type": "code",
      "source": [],
      "metadata": {
        "id": "Sz4weGsNyEBc"
      },
      "execution_count": 8,
      "outputs": []
    },
    {
      "cell_type": "code",
      "source": [],
      "metadata": {
        "id": "ru91P02tyEEk"
      },
      "execution_count": 8,
      "outputs": []
    },
    {
      "cell_type": "code",
      "source": [],
      "metadata": {
        "id": "h0oSK5bkyEH0"
      },
      "execution_count": 8,
      "outputs": []
    },
    {
      "cell_type": "code",
      "source": [],
      "metadata": {
        "id": "OP8gfBv1yEK9"
      },
      "execution_count": 8,
      "outputs": []
    },
    {
      "cell_type": "code",
      "source": [],
      "metadata": {
        "id": "P8eHGqFzyEOe"
      },
      "execution_count": 8,
      "outputs": []
    },
    {
      "cell_type": "code",
      "source": [],
      "metadata": {
        "id": "4fJ6q8Qng3Cb"
      },
      "execution_count": 8,
      "outputs": []
    }
  ]
}